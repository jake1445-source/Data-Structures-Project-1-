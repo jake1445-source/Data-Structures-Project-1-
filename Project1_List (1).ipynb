{
 "cells": [
  {
   "cell_type": "code",
   "execution_count": 1,
   "id": "8a5a6c5a-b30e-4d33-b2a2-e50d7a507eda",
   "metadata": {
    "colab": {
     "base_uri": "https://localhost:8080/",
     "height": 108
    },
    "id": "8a5a6c5a-b30e-4d33-b2a2-e50d7a507eda",
    "outputId": "d25aa025-511a-40ff-8cef-03424afc38cf"
   },
   "outputs": [
    {
     "ename": "IndentationError",
     "evalue": "unexpected indent (ipython-input-877219944.py, line 5)",
     "output_type": "error",
     "traceback": [
      "\u001b[0;36m  File \u001b[0;32m\"/tmp/ipython-input-877219944.py\"\u001b[0;36m, line \u001b[0;32m5\u001b[0m\n\u001b[0;31m    '''Array based list of event details\u001b[0m\n\u001b[0m    ^\u001b[0m\n\u001b[0;31mIndentationError\u001b[0m\u001b[0;31m:\u001b[0m unexpected indent\n"
     ]
    }
   ],
   "source": [
    "# define class\n",
    "\n",
    "#class Events:\n",
    "\n",
    "    '''Array based list of event details\n",
    "\n",
    "    This class allows the user to create a list of events. Each element in the array is a dictionary\n",
    "    ----------------------------------\n",
    "    Functions:\n",
    "\n",
    "    insert: insert an event at the end of the list\n",
    "\n",
    "    delete: Delete the event based on the ID\n",
    "\n",
    "    search_by_id: Returns event dictionary with matching id\n",
    "\n",
    "    list_all: Returns a copy of all events\n",
    "\n",
    "\n",
    "    '''\n",
    "    # initialize array of event dictionaries\n",
    "    def __init__(self):\n",
    "        self.data = []\n",
    "\n",
    "    # Insert function\n",
    "    def insert(self, event):\n",
    "        self.data.append(event)\n",
    "\n",
    "    # Delete\n",
    "    def delete(self, event_id):\n",
    "        for i in range(len(self.data)):\n",
    "            if self.data[i][\"id\"] == event_id:\n",
    "                del self.data[i]\n",
    "                return print(f'Event {event_id} deleted.')\n",
    "        return print('Event not found, delete unsuccessful.')\n",
    "\n",
    "    # Search for an event\n",
    "    def search_by_id(self, event_id):\n",
    "\n",
    "        for i in self.data:\n",
    "            if i['id'] == event_id:\n",
    "                return i\n",
    "\n",
    "        return 'Event not found'\n",
    "\n",
    "    # List all events\n",
    "    def list_all(self):\n",
    "        return self.data\n",
    "\n",
    "def runtime(n, sort):\n",
    "    import time\n",
    "\n",
    "    events = generate_events(n)\n",
    "    begin = time.time()\n",
    "    sort(events.data,'date','time')\n",
    "    end = time.time()\n",
    "    return end-begin"
   ]
  },
  {
   "cell_type": "code",
   "execution_count": null,
   "id": "ef613db2-e47e-4000-99ff-57ecd8fdd63d",
   "metadata": {
    "id": "ef613db2-e47e-4000-99ff-57ecd8fdd63d"
   },
   "outputs": [],
   "source": [
    "# Test functions\n",
    "\n",
    "# Initialize class\n",
    "events = Events()\n",
    "\n",
    "# Insert some events\n",
    "events.insert({\"id\": 1, \"title\": \"Orientation\", \"date\": \"2025-10-10\", \"time\": \"20:00\", \"location\": \"Campus\"})\n",
    "events.insert({\"id\": 6, \"title\": \"Concert\", \"date\": \"2025-10-10\", \"time\": \"19:00\", \"location\": \"Folsom Field\"})\n",
    "events.insert({\"id\": 3, \"title\": \"Football Game\", \"date\": \"2025-06-04\", \"time\": \"20:00\", \"location\": \"Stadium\"})\n",
    "\n",
    "# list the events\n",
    "events.list_all()\n"
   ]
  },
  {
   "cell_type": "code",
   "execution_count": null,
   "id": "aed1230a-4d27-4d2a-bc84-9b7b36c34fa0",
   "metadata": {
    "id": "aed1230a-4d27-4d2a-bc84-9b7b36c34fa0"
   },
   "outputs": [],
   "source": [
    "# Search for a specific event\n",
    "events.search_by_id(3)"
   ]
  },
  {
   "cell_type": "code",
   "execution_count": null,
   "id": "29e768cd-4db3-4e31-b0be-b8ffd3852296",
   "metadata": {
    "id": "29e768cd-4db3-4e31-b0be-b8ffd3852296"
   },
   "outputs": [],
   "source": [
    "# Delete an event\n",
    "# Search for a specific event\n",
    "events.delete(3)\n",
    "\n",
    "# now display all to make sure delete worked\n",
    "events.list_all()"
   ]
  },
  {
   "cell_type": "markdown",
   "id": "gdBoS_UcIi5I",
   "metadata": {
    "id": "gdBoS_UcIi5I"
   },
   "source": [
    "# Final Report Notebook\n",
    "\n",
    "-----\n"
   ]
  },
  {
   "cell_type": "markdown",
   "id": "7t29m9iUJhin",
   "metadata": {
    "id": "7t29m9iUJhin"
   },
   "source": [
    "## A. Event Storage Structures\n",
    "\n",
    "## 1. Array-Based Lists\n",
    "\n",
    "Below is the code, along with some examples of the Array-based event algorithm. First, import the necessary modules from EventsList.py. This python file contains the array and sorting algorithms, as well as code to generate events and measure sorting runtimes.  \n",
    "\n",
    "Then, we create an instance of the Events_List() Class and demonstrate the basic attributes like insert, list_all, delete, and search_by_id. Call Events_List? to see docstring.\n"
   ]
  },
  {
   "cell_type": "code",
   "execution_count": 1,
   "id": "rybVGkstZ1yT",
   "metadata": {
    "id": "rybVGkstZ1yT"
   },
   "outputs": [],
   "source": [
    "from EventsList import Events_List, insertion_sort, merge_sort, quick_sort, generate_events, runtime\n",
    "\n",
    "import time\n",
    "import random\n",
    "import matplotlib.pyplot as plt\n"
   ]
  },
  {
   "cell_type": "code",
   "execution_count": 2,
   "id": "x7H5VPAaIP1_",
   "metadata": {
    "colab": {
     "base_uri": "https://localhost:8080/"
    },
    "id": "x7H5VPAaIP1_",
    "outputId": "00b2fd28-102a-438d-993c-3d38b2f8e6bc"
   },
   "outputs": [
    {
     "data": {
      "text/plain": [
       "[{'id': 1,\n",
       "  'title': 'Orientation',\n",
       "  'date': '2025-11-10',\n",
       "  'time': '20:00',\n",
       "  'location': 'Campus'},\n",
       " {'id': 6,\n",
       "  'title': 'Concert',\n",
       "  'date': '2025-10-10',\n",
       "  'time': '20:00',\n",
       "  'location': 'Folsom Field'},\n",
       " {'id': 3,\n",
       "  'title': 'Football Game',\n",
       "  'date': '2025-10-01',\n",
       "  'time': '20:00',\n",
       "  'location': 'Stadium'}]"
      ]
     },
     "execution_count": 2,
     "metadata": {},
     "output_type": "execute_result"
    }
   ],
   "source": [
    "# Initialize class\n",
    "events = Events_List()\n",
    "\n",
    "# Insert some events\n",
    "events.insert({\"id\": 1, \"title\": \"Orientation\", \"date\": \"2025-11-10\", \"time\": \"20:00\", \"location\": \"Campus\"})\n",
    "events.insert({\"id\": 6, \"title\": \"Concert\", \"date\": \"2025-10-10\", \"time\": \"20:00\", \"location\": \"Folsom Field\"})\n",
    "events.insert({\"id\": 3, \"title\": \"Football Game\", \"date\": \"2025-10-01\", \"time\": \"20:00\", \"location\": \"Stadium\"})\n",
    "\n",
    "# list the events\n",
    "events.list_all()\n"
   ]
  },
  {
   "cell_type": "code",
   "execution_count": 3,
   "id": "EtbD4kNcISqj",
   "metadata": {
    "colab": {
     "base_uri": "https://localhost:8080/"
    },
    "id": "EtbD4kNcISqj",
    "outputId": "04db0398-9efd-42b5-88b2-0e5262fce752"
   },
   "outputs": [
    {
     "data": {
      "text/plain": [
       "{'id': 6,\n",
       " 'title': 'Concert',\n",
       " 'date': '2025-10-10',\n",
       " 'time': '20:00',\n",
       " 'location': 'Folsom Field'}"
      ]
     },
     "execution_count": 3,
     "metadata": {},
     "output_type": "execute_result"
    }
   ],
   "source": [
    "# Search by ID\n",
    "events.search_by_id(6)"
   ]
  },
  {
   "cell_type": "code",
   "execution_count": 4,
   "id": "sURlWAELIV54",
   "metadata": {
    "colab": {
     "base_uri": "https://localhost:8080/"
    },
    "id": "sURlWAELIV54",
    "outputId": "7a46e416-666e-40c2-f17f-37260ca5bef7"
   },
   "outputs": [
    {
     "name": "stdout",
     "output_type": "stream",
     "text": [
      "Event 3 deleted.\n"
     ]
    },
    {
     "data": {
      "text/plain": [
       "[{'id': 1,\n",
       "  'title': 'Orientation',\n",
       "  'date': '2025-11-10',\n",
       "  'time': '20:00',\n",
       "  'location': 'Campus'},\n",
       " {'id': 6,\n",
       "  'title': 'Concert',\n",
       "  'date': '2025-10-10',\n",
       "  'time': '20:00',\n",
       "  'location': 'Folsom Field'}]"
      ]
     },
     "execution_count": 4,
     "metadata": {},
     "output_type": "execute_result"
    }
   ],
   "source": [
    "# delete an event\n",
    "events.delete(3)\n",
    "events.list_all()"
   ]
  },
  {
   "cell_type": "markdown",
   "id": "XhYm_ulFIZBt",
   "metadata": {
    "id": "XhYm_ulFIZBt"
   },
   "source": [
    "## 2. Linked Lists\n",
    "This algorithm works in a very similar way from the user's perspective. First, import the necessary modules from LinkedList.py. Then we demonstrate the basic functionality.\n",
    "\n"
   ]
  },
  {
   "cell_type": "code",
   "execution_count": 5,
   "id": "0-0ViiOXIYPi",
   "metadata": {
    "id": "0-0ViiOXIYPi"
   },
   "outputs": [],
   "source": [
    "# import module\n",
    "from LinkedList import Event, LinkedEvents, generate_linked_events\n",
    "from LinkedList import runtime as runtime_linked\n",
    "import matplotlib.pyplot as plt"
   ]
  },
  {
   "cell_type": "code",
   "execution_count": 6,
   "id": "Ii7pRaQwJmQX",
   "metadata": {
    "colab": {
     "base_uri": "https://localhost:8080/"
    },
    "id": "Ii7pRaQwJmQX",
    "outputId": "d84eae83-6186-45e2-fbfa-66fa9c868905"
   },
   "outputs": [
    {
     "name": "stdout",
     "output_type": "stream",
     "text": [
      "Orientation Campus 2025-10-10 20:00 12\n",
      "Concert Folsom Field 2025-10-10 20:00 6\n",
      "Football Game Stadium 2025-10-10 20:00 3\n"
     ]
    }
   ],
   "source": [
    "# Append events\n",
    "le = LinkedEvents()\n",
    "le.append(12, \"Orientation\", \"2025-10-10\", \"20:00\", \"Campus\")\n",
    "le.append(6, \"Concert\", \"2025-10-10\", \"20:00\", \"Folsom Field\")\n",
    "le.append(3, \"Football Game\", \"2025-10-10\", \"20:00\", \"Stadium\")\n",
    "le.show_events()"
   ]
  },
  {
   "cell_type": "code",
   "execution_count": 7,
   "id": "UCaafoMCJqA5",
   "metadata": {
    "colab": {
     "base_uri": "https://localhost:8080/"
    },
    "id": "UCaafoMCJqA5",
    "outputId": "d37fbb20-492a-4fe4-a72d-5a53a8ebecf8"
   },
   "outputs": [
    {
     "name": "stdout",
     "output_type": "stream",
     "text": [
      "Football Game Stadium 2025-10-10 20:00 3\n",
      "1 events found with title: Football Game\n",
      "3\n"
     ]
    }
   ],
   "source": [
    "# Search for events, any event attribute can be used here\n",
    "le.find_event(\"title\", \"Football Game\")\n",
    "\n",
    "# Count number of events\n",
    "le.event_count()"
   ]
  },
  {
   "cell_type": "markdown",
   "id": "Dah1XXR2Jq6k",
   "metadata": {
    "id": "Dah1XXR2Jq6k"
   },
   "source": [
    "### Theoretical Complexities of Operations\n",
    "\n",
    "For the array based and linked list approaches, the functions' complexity depends only on whether the function must iterate through each event. For example, the insert function only needs to append the list, so the complexity is constant. However search_by_id needs to iterate through the list until it finds a match, so the complexity is linear. While we will go into greater depth on the nuanced differences between arrays and linked lists later, the theoretical complexities for each operations are as follows:\n",
    "\n",
    "#### O(1):\n",
    "1. insert\n",
    "\n",
    "#### O(n)\n",
    "1. List(all)\n",
    "2. delete\n",
    "3. search_by_id\n"
   ]
  },
  {
   "cell_type": "markdown",
   "id": "MKIHKbz15xYY",
   "metadata": {
    "id": "MKIHKbz15xYY"
   },
   "source": [
    "#B. Sorting Events\n",
    "\n",
    "This section contains the code for implementing the sorting algorithms from the module. First, we will demonstrate how the sorting works for arrays and linked lists with only a few events. Then, we will populate the lists with up to 50,000 events, and analyze the run times of each sorting algorithm on the data structures.\n",
    "\n"
   ]
  },
  {
   "cell_type": "markdown",
   "id": "0T3CnEo4rK7S",
   "metadata": {
    "id": "0T3CnEo4rK7S"
   },
   "source": [
    "**Array Sorting:**"
   ]
  },
  {
   "cell_type": "code",
   "execution_count": 8,
   "id": "LvNgHRoyLIAP",
   "metadata": {
    "colab": {
     "base_uri": "https://localhost:8080/"
    },
    "id": "LvNgHRoyLIAP",
    "outputId": "45345eb3-77d9-4c13-a5fb-be7eadb9c321"
   },
   "outputs": [
    {
     "data": {
      "text/plain": [
       "[{'date': '2025-02-07', 'time': '03:59', 'id': 712},\n",
       " {'date': '2025-05-18', 'time': '13:35', 'id': 345},\n",
       " {'date': '2025-05-22', 'time': '16:01', 'id': 117},\n",
       " {'date': '2025-08-09', 'time': '19:30', 'id': 811},\n",
       " {'date': '2025-11-20', 'time': '01:37', 'id': 237}]"
      ]
     },
     "execution_count": 8,
     "metadata": {},
     "output_type": "execute_result"
    }
   ],
   "source": [
    "# Insertion Sort\n",
    "\n",
    "events = generate_events(n = 5)\n",
    "insertion_sort(events.data, 'date', 'time')"
   ]
  },
  {
   "cell_type": "code",
   "execution_count": 9,
   "id": "zKRtH31jLbt2",
   "metadata": {
    "colab": {
     "base_uri": "https://localhost:8080/"
    },
    "id": "zKRtH31jLbt2",
    "outputId": "6843789f-6c38-4f8d-e056-9364c3b99aed"
   },
   "outputs": [
    {
     "data": {
      "text/plain": [
       "[{'date': '2025-01-13', 'time': '15:25', 'id': 334},\n",
       " {'date': '2025-02-05', 'time': '03:45', 'id': 761},\n",
       " {'date': '2025-03-20', 'time': '14:00', 'id': 151},\n",
       " {'date': '2025-07-24', 'time': '13:27', 'id': 7},\n",
       " {'date': '2025-11-09', 'time': '18:44', 'id': 292}]"
      ]
     },
     "execution_count": 9,
     "metadata": {},
     "output_type": "execute_result"
    }
   ],
   "source": [
    "# Merge Sort\n",
    "\n",
    "events = generate_events(n = 5)\n",
    "merge_sort(events.data, 'date', 'time')"
   ]
  },
  {
   "cell_type": "code",
   "execution_count": 10,
   "id": "7kUipcvQLb1n",
   "metadata": {
    "colab": {
     "base_uri": "https://localhost:8080/"
    },
    "id": "7kUipcvQLb1n",
    "outputId": "37c12306-12f9-481f-cf1c-feaa58313c4b"
   },
   "outputs": [
    {
     "data": {
      "text/plain": [
       "[{'date': '2025-03-02', 'time': '16:09', 'id': 907},\n",
       " {'date': '2025-07-20', 'time': '13:02', 'id': 180},\n",
       " {'date': '2025-07-28', 'time': '00:32', 'id': 787},\n",
       " {'date': '2025-10-07', 'time': '19:48', 'id': 200},\n",
       " {'date': '2025-12-24', 'time': '21:35', 'id': 704}]"
      ]
     },
     "execution_count": 10,
     "metadata": {},
     "output_type": "execute_result"
    }
   ],
   "source": [
    "# Quick Sort\n",
    "\n",
    "events = generate_events(n = 5)\n",
    "quick_sort(events.data, 'date', 'time')"
   ]
  },
  {
   "cell_type": "markdown",
   "id": "_KTnpSh8rQuA",
   "metadata": {
    "id": "_KTnpSh8rQuA"
   },
   "source": [
    "**Linked List Sorting:**"
   ]
  },
  {
   "cell_type": "code",
   "execution_count": 11,
   "id": "RfW3HhYVL6KS",
   "metadata": {
    "colab": {
     "base_uri": "https://localhost:8080/"
    },
    "id": "RfW3HhYVL6KS",
    "outputId": "413e5c5f-985e-40ff-c3ac-0743c4c221f1"
   },
   "outputs": [
    {
     "name": "stdout",
     "output_type": "stream",
     "text": [
      "Events sorted by date\n",
      "title location 2025-04-04 15:00 9691\n",
      "title location 2025-05-09 13:10 3184\n",
      "title location 2025-05-13 06:34 6555\n",
      "All 5 events listed\n"
     ]
    }
   ],
   "source": [
    "# Insertion Sort\n",
    "\n",
    "events = generate_linked_events(5)\n",
    "events.insert_sort('date')\n",
    "events.list_all()"
   ]
  },
  {
   "cell_type": "code",
   "execution_count": 12,
   "id": "qMe505rzMFUz",
   "metadata": {
    "colab": {
     "base_uri": "https://localhost:8080/"
    },
    "id": "qMe505rzMFUz",
    "outputId": "46f267f6-7157-4b34-8150-b198d95ba9a0"
   },
   "outputs": [
    {
     "name": "stdout",
     "output_type": "stream",
     "text": [
      "title location 2025-02-02 21:06 9579\n",
      "title location 2025-05-03 14:41 38005\n",
      "title location 2025-09-10 21:26 47047\n",
      "title location 2025-10-13 22:15 26587\n",
      "title location 2025-12-01 01:28 35116\n",
      "All 5 events listed\n"
     ]
    }
   ],
   "source": [
    "# Merge Sort\n",
    "\n",
    "events = generate_linked_events(5)\n",
    "events.head = events.merge_sort(events.head, 'date') # Pass events.head as the first argument\n",
    "events.list_all()"
   ]
  },
  {
   "cell_type": "code",
   "execution_count": 13,
   "id": "b82fb550",
   "metadata": {
    "colab": {
     "base_uri": "https://localhost:8080/"
    },
    "id": "b82fb550",
    "outputId": "0e85ad79-771a-4ea4-c866-46b20b03ac7a"
   },
   "outputs": [
    {
     "name": "stdout",
     "output_type": "stream",
     "text": [
      "title location 2025-02-17 20:19 34568\n",
      "title location 2025-08-09 14:16 27802\n",
      "title location 2025-10-22 08:06 17555\n",
      "title location 2025-11-01 18:28 4257\n",
      "title location 2025-11-24 04:37 41346\n",
      "All 5 events listed\n"
     ]
    }
   ],
   "source": [
    "# Quick Sort\n",
    "\n",
    "events = generate_linked_events(5)\n",
    "events.head = events.quick_sort(events.head, 'date')\n",
    "events.list_all()"
   ]
  },
  {
   "cell_type": "markdown",
   "id": "n54NBOqsQPRt",
   "metadata": {
    "id": "n54NBOqsQPRt"
   },
   "source": [
    "## Sorting Analysis and Comparison\n",
    "\n",
    "Below is some code to run many trials of the sorting functions. We use the runtime functions to measure the time taken to successfully sort the lists using each algorithm."
   ]
  },
  {
   "cell_type": "code",
   "execution_count": 14,
   "id": "tNARccHHQIhS",
   "metadata": {
    "colab": {
     "base_uri": "https://localhost:8080/",
     "height": 635
    },
    "id": "tNARccHHQIhS",
    "outputId": "16288372-3d05-407d-825e-ac079de5b97b"
   },
   "outputs": [
    {
     "name": "stdout",
     "output_type": "stream",
     "text": [
      "Events sorted by date\n",
      "Events sorted by date\n",
      "Events sorted by date\n"
     ]
    },
    {
     "data": {
      "text/plain": [
       "<matplotlib.legend.Legend at 0x7f16382fb150>"
      ]
     },
     "execution_count": 14,
     "metadata": {},
     "output_type": "execute_result"
    },
    {
     "data": {
      "image/png": "[encoded data removed]",
      "text/plain": [
       "<Figure size 600x600 with 1 Axes>"
      ]
     },
     "metadata": {},
     "output_type": "display_data"
    }
   ],
   "source": [
    "trials = [50, 500, 5000]#, 50000]\n",
    "runtimes_insertion = []\n",
    "runtimes_merge = []\n",
    "runtimes_quick = []\n",
    "\n",
    "for n in trials:\n",
    "  s1 = runtime(n,insertion_sort)\n",
    "  runtimes_insertion.append(s1)\n",
    "  s2 = runtime(n,merge_sort)\n",
    "  runtimes_merge.append(s2)\n",
    "  s3 = runtime(n,quick_sort)\n",
    "  runtimes_quick.append(s3)\n",
    "\n",
    "\n",
    "runtimes_insertion_ll = []\n",
    "runtimes_merge_ll = []\n",
    "runtimes_quick_ll = []\n",
    "\n",
    "for n in trials:\n",
    "  s1 = runtime_linked(n,LinkedEvents.insert_sort)\n",
    "  runtimes_insertion_ll.append(s1)\n",
    "  s2 = runtime_linked(n,LinkedEvents.merge_sort)\n",
    "  runtimes_merge_ll.append(s2)\n",
    "  s3 = runtime_linked(n,LinkedEvents.quick_sort)\n",
    "  runtimes_quick_ll.append(s3)\n",
    "\n",
    "\n",
    "# Plot Array Sorting\n",
    "\n",
    "plt.figure(figsize=(6,6))\n",
    "plt.semilogy(trials,runtimes_insertion, marker = 'o', label = 'Insertion Sort - Array')\n",
    "plt.semilogy(trials,runtimes_merge, marker = 'x', label = 'Merge Sort - Array')\n",
    "plt.semilogy(trials,runtimes_quick,marker='*',label ='Quick Sort - Array')\n",
    "\n",
    "#Plot Linked list sorting\n",
    "plt.semilogy(trials,runtimes_insertion_ll, marker = 'o', label = 'Insertion Sort - LL')\n",
    "plt.semilogy(trials,runtimes_merge_ll, marker = 'x', label = 'Merge Sort - LL')\n",
    "plt.semilogy(trials,runtimes_quick_ll,marker='*',label ='Quick Sort - LL')\n",
    "plt.title('Runtimes of Sorting Algorithms')\n",
    "plt.ylabel('Time (seconds)')\n",
    "plt.xlabel('Number of Events')\n",
    "plt.legend()\n",
    "\n",
    "\n"
   ]
  },
  {
   "cell_type": "markdown",
   "id": "UM7BQmhM0h-q",
   "metadata": {
    "id": "UM7BQmhM0h-q"
   },
   "source": [
    "Based on the plot above and what we know about sorting algorithms, the merge and quick sorts were most efficient with complexity O(nlogn); whereas, the insertion sorts have complexity O(n^2). When n is small, the runtime grows quickly. As n becomes larger, the rate of increase is slower.\n",
    "\n",
    "Across all tests, the linked list implementations appear to be faster than the array implementations. This difference may be influenced by implementation details including memory allocation or Python's list handling.\n",
    "\n",
    "For array-based sorting algorithms, merge and quick sort behave similarly while insertion sort is much slower, as expected. For linked list, all three sorting algorithms appear to behave similarly."
   ]
  },
  {
   "cell_type": "markdown",
   "id": "ll9hyWY3tG6n",
   "metadata": {
    "id": "ll9hyWY3tG6n"
   },
   "source": [
    "# C. Searching and Conflict Detection\n",
    "\n",
    "This section contains implementation of algorithms that search for events, and detect conflicting events. The algorithms are stored in search_and_conflict.py.\n",
    "\n",
    "## 1. Searching\n",
    "\n",
    "First, we demonstrate the searching algorithm. There are two approaches:\n",
    "\n",
    "1. Linear Search - Sift through the data one-by-one\n",
    "2. Binary Search - Start in the middle, zoom in on target. Same idea as the magic number algorithm from class."
   ]
  },
  {
   "cell_type": "code",
   "execution_count": 17,
   "id": "grNxhb9I0NSL",
   "metadata": {
    "id": "grNxhb9I0NSL"
   },
   "outputs": [],
   "source": [
    "from search_and_conflict import linear_search, binary_search, find_conflicts\n",
    "import matplotlib.pyplot as plt"
   ]
  },
  {
   "cell_type": "code",
   "execution_count": 18,
   "id": "5gSi7v_mu1wL",
   "metadata": {
    "colab": {
     "base_uri": "https://localhost:8080/"
    },
    "id": "5gSi7v_mu1wL",
    "outputId": "7c7979f9-431d-420d-eadb-aa8f3a550e79"
   },
   "outputs": [
    {
     "name": "stdout",
     "output_type": "stream",
     "text": [
      "Event found. Time elapsed: 0.0001704692840576172\n",
      "Event found. Time elapsed: 0.00012636184692382812\n"
     ]
    }
   ],
   "source": [
    "import random\n",
    "random.seed(40)\n",
    "# Generate some data\n",
    "events_arr = generate_events(n = 1000)\n",
    "events_ll = generate_linked_events(n = 1000)\n",
    "\n",
    "\n",
    "events_arr_sorted = insertion_sort(events_arr.data,'id', sort_by2='id')\n",
    "\n",
    "# implement linear search, keep track of time elapsed\n",
    "# Note: we use the 500th event, because the mean time of the linear algorithm is the time\n",
    "#       taken to find the n/2 element from a list of length n.\n",
    "\n",
    "target_sorted_arr = linear_search(events_arr_sorted, 500)\n",
    "\n",
    "\n",
    "\n",
    "# Search among unsorted data\n",
    "target_unsorted_arr = linear_search(events_arr.data, 500)\n"
   ]
  },
  {
   "cell_type": "code",
   "execution_count": 19,
   "id": "-Zr5yDxV2fA6",
   "metadata": {
    "colab": {
     "base_uri": "https://localhost:8080/"
    },
    "id": "-Zr5yDxV2fA6",
    "outputId": "56ec439a-43d6-4ee0-fe0b-834554180446"
   },
   "outputs": [
    {
     "name": "stdout",
     "output_type": "stream",
     "text": [
      "Sorted. Time elapsed: 1.5974044799804688e-05\n",
      "Sorted. Time elapsed: 5.245208740234375e-06\n"
     ]
    }
   ],
   "source": [
    "random.seed(38)\n",
    "# Now use binary search\n",
    "target_sorted_arr = binary_search(events_arr_sorted, 500)\n",
    "# Search among unsorted data\n",
    "target_unsorted_arr = binary_search(events_arr.data, 500)\n",
    "\n"
   ]
  },
  {
   "cell_type": "markdown",
   "id": "h_4zcr9N4EMt",
   "metadata": {
    "id": "h_4zcr9N4EMt"
   },
   "source": [
    "Though similar, the binary search operation took much less time on the sorted arrays. For the unsorted data, it did not matter, because the binary search algorithm does not work on unsorted data.\n",
    "\n",
    "-----\n",
    "\n",
    "## Conflict Detection\n"
   ]
  },
  {
   "cell_type": "code",
   "execution_count": 23,
   "id": "fz-YmjRs4n6F",
   "metadata": {
    "colab": {
     "base_uri": "https://localhost:8080/",
     "height": 1000
    },
    "id": "fz-YmjRs4n6F",
    "outputId": "be58fe18-c3d3-4631-809a-52b5f00261e9"
   },
   "outputs": [
    {
     "ename": "ValueError",
     "evalue": "time data '2025-01-01, 00:28' does not match format '%Y-%m-%d %H:%M'",
     "output_type": "error",
     "traceback": [
      "\u001b[0;31m---------------------------------------------------------------------------\u001b[0m",
      "\u001b[0;31mValueError\u001b[0m                                Traceback (most recent call last)",
      "Cell \u001b[0;32mIn[23], line 3\u001b[0m\n\u001b[1;32m      1\u001b[0m events \u001b[38;5;241m=\u001b[39m generate_events(\u001b[38;5;241m10000\u001b[39m)\n\u001b[0;32m----> 3\u001b[0m \u001b[43mfind_conflicts\u001b[49m\u001b[43m(\u001b[49m\u001b[43mevents\u001b[49m\u001b[38;5;241;43m.\u001b[39;49m\u001b[43mdata\u001b[49m\u001b[43m)\u001b[49m\n",
      "File \u001b[0;32m~/Data Structures/Project 1 /search_and_conflict.py:58\u001b[0m, in \u001b[0;36mfind_conflicts\u001b[0;34m(events)\u001b[0m\n\u001b[1;32m     55\u001b[0m e2 \u001b[38;5;241m=\u001b[39m sorted_events[i\u001b[38;5;241m+\u001b[39m\u001b[38;5;241m1\u001b[39m]\n\u001b[1;32m     57\u001b[0m \u001b[38;5;28;01mif\u001b[39;00m e1[\u001b[38;5;124m'\u001b[39m\u001b[38;5;124mdate\u001b[39m\u001b[38;5;124m'\u001b[39m] \u001b[38;5;241m==\u001b[39m e2[\u001b[38;5;124m'\u001b[39m\u001b[38;5;124mdate\u001b[39m\u001b[38;5;124m'\u001b[39m]:\n\u001b[0;32m---> 58\u001b[0m     t1_start \u001b[38;5;241m=\u001b[39m \u001b[43mparse_datetime\u001b[49m\u001b[43m(\u001b[49m\u001b[43me1\u001b[49m\u001b[43m)\u001b[49m\n\u001b[1;32m     59\u001b[0m     t1_end \u001b[38;5;241m=\u001b[39m t1_start\u001b[38;5;241m.\u001b[39mreplace(hour\u001b[38;5;241m=\u001b[39mt1_start\u001b[38;5;241m.\u001b[39mhour \u001b[38;5;241m+\u001b[39m \u001b[38;5;241m1\u001b[39m)\n\u001b[1;32m     60\u001b[0m     t2_start \u001b[38;5;241m=\u001b[39m parse_datetime(e2)\n",
      "File \u001b[0;32m~/Data Structures/Project 1 /search_and_conflict.py:49\u001b[0m, in \u001b[0;36mfind_conflicts.<locals>.parse_datetime\u001b[0;34m(event)\u001b[0m\n\u001b[1;32m     47\u001b[0m date_string \u001b[38;5;241m=\u001b[39m \u001b[38;5;124mf\u001b[39m\u001b[38;5;124m\"\u001b[39m\u001b[38;5;132;01m{\u001b[39;00mevent[\u001b[38;5;124m'\u001b[39m\u001b[38;5;124mdate\u001b[39m\u001b[38;5;124m'\u001b[39m]\u001b[38;5;132;01m}\u001b[39;00m\u001b[38;5;124m, \u001b[39m\u001b[38;5;132;01m{\u001b[39;00mevent[\u001b[38;5;124m'\u001b[39m\u001b[38;5;124mtime\u001b[39m\u001b[38;5;124m'\u001b[39m]\u001b[38;5;132;01m}\u001b[39;00m\u001b[38;5;124m\"\u001b[39m\n\u001b[1;32m     48\u001b[0m format_string \u001b[38;5;241m=\u001b[39m \u001b[38;5;124m\"\u001b[39m\u001b[38;5;124m%\u001b[39m\u001b[38;5;124mY-\u001b[39m\u001b[38;5;124m%\u001b[39m\u001b[38;5;124mm-\u001b[39m\u001b[38;5;132;01m%d\u001b[39;00m\u001b[38;5;124m \u001b[39m\u001b[38;5;124m%\u001b[39m\u001b[38;5;124mH:\u001b[39m\u001b[38;5;124m%\u001b[39m\u001b[38;5;124mM\u001b[39m\u001b[38;5;124m\"\u001b[39m\n\u001b[0;32m---> 49\u001b[0m \u001b[38;5;28;01mreturn\u001b[39;00m \u001b[43mdatetime\u001b[49m\u001b[38;5;241;43m.\u001b[39;49m\u001b[43mstrptime\u001b[49m\u001b[43m(\u001b[49m\u001b[43mdate_string\u001b[49m\u001b[43m,\u001b[49m\u001b[43m \u001b[49m\u001b[43mformat_string\u001b[49m\u001b[43m)\u001b[49m\n",
      "File \u001b[0;32m/opt/conda/lib/python3.11/_strptime.py:567\u001b[0m, in \u001b[0;36m_strptime_datetime\u001b[0;34m(cls, data_string, format)\u001b[0m\n\u001b[1;32m    564\u001b[0m \u001b[38;5;28;01mdef\u001b[39;00m \u001b[38;5;21m_strptime_datetime\u001b[39m(\u001b[38;5;28mcls\u001b[39m, data_string, \u001b[38;5;28mformat\u001b[39m\u001b[38;5;241m=\u001b[39m\u001b[38;5;124m\"\u001b[39m\u001b[38;5;132;01m%a\u001b[39;00m\u001b[38;5;124m \u001b[39m\u001b[38;5;124m%\u001b[39m\u001b[38;5;124mb \u001b[39m\u001b[38;5;132;01m%d\u001b[39;00m\u001b[38;5;124m \u001b[39m\u001b[38;5;124m%\u001b[39m\u001b[38;5;124mH:\u001b[39m\u001b[38;5;124m%\u001b[39m\u001b[38;5;124mM:\u001b[39m\u001b[38;5;124m%\u001b[39m\u001b[38;5;124mS \u001b[39m\u001b[38;5;124m%\u001b[39m\u001b[38;5;124mY\u001b[39m\u001b[38;5;124m\"\u001b[39m):\n\u001b[1;32m    565\u001b[0m \u001b[38;5;250m    \u001b[39m\u001b[38;5;124;03m\"\"\"Return a class cls instance based on the input string and the\u001b[39;00m\n\u001b[1;32m    566\u001b[0m \u001b[38;5;124;03m    format string.\"\"\"\u001b[39;00m\n\u001b[0;32m--> 567\u001b[0m     tt, fraction, gmtoff_fraction \u001b[38;5;241m=\u001b[39m \u001b[43m_strptime\u001b[49m\u001b[43m(\u001b[49m\u001b[43mdata_string\u001b[49m\u001b[43m,\u001b[49m\u001b[43m \u001b[49m\u001b[38;5;28;43mformat\u001b[39;49m\u001b[43m)\u001b[49m\n\u001b[1;32m    568\u001b[0m     tzname, gmtoff \u001b[38;5;241m=\u001b[39m tt[\u001b[38;5;241m-\u001b[39m\u001b[38;5;241m2\u001b[39m:]\n\u001b[1;32m    569\u001b[0m     args \u001b[38;5;241m=\u001b[39m tt[:\u001b[38;5;241m6\u001b[39m] \u001b[38;5;241m+\u001b[39m (fraction,)\n",
      "File \u001b[0;32m/opt/conda/lib/python3.11/_strptime.py:349\u001b[0m, in \u001b[0;36m_strptime\u001b[0;34m(data_string, format)\u001b[0m\n\u001b[1;32m    347\u001b[0m found \u001b[38;5;241m=\u001b[39m format_regex\u001b[38;5;241m.\u001b[39mmatch(data_string)\n\u001b[1;32m    348\u001b[0m \u001b[38;5;28;01mif\u001b[39;00m \u001b[38;5;129;01mnot\u001b[39;00m found:\n\u001b[0;32m--> 349\u001b[0m     \u001b[38;5;28;01mraise\u001b[39;00m \u001b[38;5;167;01mValueError\u001b[39;00m(\u001b[38;5;124m\"\u001b[39m\u001b[38;5;124mtime data \u001b[39m\u001b[38;5;132;01m%r\u001b[39;00m\u001b[38;5;124m does not match format \u001b[39m\u001b[38;5;132;01m%r\u001b[39;00m\u001b[38;5;124m\"\u001b[39m \u001b[38;5;241m%\u001b[39m\n\u001b[1;32m    350\u001b[0m                      (data_string, \u001b[38;5;28mformat\u001b[39m))\n\u001b[1;32m    351\u001b[0m \u001b[38;5;28;01mif\u001b[39;00m \u001b[38;5;28mlen\u001b[39m(data_string) \u001b[38;5;241m!=\u001b[39m found\u001b[38;5;241m.\u001b[39mend():\n\u001b[1;32m    352\u001b[0m     \u001b[38;5;28;01mraise\u001b[39;00m \u001b[38;5;167;01mValueError\u001b[39;00m(\u001b[38;5;124m\"\u001b[39m\u001b[38;5;124munconverted data remains: \u001b[39m\u001b[38;5;132;01m%s\u001b[39;00m\u001b[38;5;124m\"\u001b[39m \u001b[38;5;241m%\u001b[39m\n\u001b[1;32m    353\u001b[0m                       data_string[found\u001b[38;5;241m.\u001b[39mend():])\n",
      "\u001b[0;31mValueError\u001b[0m: time data '2025-01-01, 00:28' does not match format '%Y-%m-%d %H:%M'"
     ]
    }
   ],
   "source": [
    "events = generate_events(10000)\n",
    "\n",
    "find_conflicts(events.data)"
   ]
  },
  {
   "cell_type": "markdown",
   "id": "B0xcvzNi5iqQ",
   "metadata": {
    "id": "B0xcvzNi5iqQ"
   },
   "source": [
    "The complexity for this algorithm is O(n log n). This is because the sorting algorithm complexity is O(n log(n)). The conflict detector is linear, and so does not meaningfully contribute to the complexity."
   ]
  },
  {
   "cell_type": "markdown",
   "id": "EfBt7MllLIZD",
   "metadata": {
    "id": "EfBt7MllLIZD"
   },
   "source": [
    "## D. Scalability\n",
    "\n",
    "**Memory Usage Estimation:**\n",
    "\n",
    "We know that the memory usage has complexity of O(n) for both array and linked list because each node in arrays and event in linked lists requires a certain amount of storage. However, linked list stores and additional pointer to the next node which would require a small amount of additional memory usage. Therefore, the linked list is still linear complexity, but would require a bit more memory than array to account for the pointer.\n",
    "\n",
    "As part of the discussion around memory allocation, it is important to consider the efficency advantages of linked lists relative to arrays.  The decentralized nature of linked lists allow the structures to use exactly as much memory is required.  On the other hand, dynamic/expandable arrays typically expand their memory allocation in fixed increments and require that data is copied from the smaller array to its larger counterpart.  The discrepency between the capacity (the size of the static array) and the size (the actual used slots) can lead to suboptimal memory usage.\n",
    "\n",
    "In the plot below, we see that as we increase the number of events, memory usage increases linearly. We also estimate that for 1,000,000 events using our array algorithm, about 328 gigabytes would be used. If we were to use the linked list algorithm, this would use a bit more memory based on the previous explanation.\n"
   ]
  },
  {
   "cell_type": "code",
   "execution_count": 21,
   "id": "Jd02CdjBNz4O",
   "metadata": {
    "id": "Jd02CdjBNz4O"
   },
   "outputs": [],
   "source": [
    "import numpy as np"
   ]
  },
  {
   "cell_type": "code",
   "execution_count": 22,
   "id": "12d9-NlhL8Qz",
   "metadata": {
    "colab": {
     "base_uri": "https://localhost:8080/",
     "height": 216
    },
    "id": "12d9-NlhL8Qz",
    "outputId": "f69b1502-23b8-467a-aac7-3e8417dc914c"
   },
   "outputs": [
    {
     "ename": "NameError",
     "evalue": "name 'asizeof' is not defined",
     "output_type": "error",
     "traceback": [
      "\u001b[0;31m---------------------------------------------------------------------------\u001b[0m",
      "\u001b[0;31mNameError\u001b[0m                                 Traceback (most recent call last)",
      "Cell \u001b[0;32mIn[22], line 6\u001b[0m\n\u001b[1;32m      4\u001b[0m \u001b[38;5;28;01mfor\u001b[39;00m n \u001b[38;5;129;01min\u001b[39;00m trials:\n\u001b[1;32m      5\u001b[0m   events \u001b[38;5;241m=\u001b[39m generate_events(n)\n\u001b[0;32m----> 6\u001b[0m   memory \u001b[38;5;241m=\u001b[39m \u001b[43masizeof\u001b[49m\u001b[38;5;241m.\u001b[39masizeof(events)\n\u001b[1;32m      7\u001b[0m   memory_usage_a\u001b[38;5;241m.\u001b[39mappend(memory\u001b[38;5;241m/\u001b[39m\u001b[38;5;241m1024\u001b[39m\u001b[38;5;241m*\u001b[39m\u001b[38;5;241m*\u001b[39m\u001b[38;5;241m2\u001b[39m)\n\u001b[1;32m      9\u001b[0m \u001b[38;5;66;03m#plots Array and Linked List Memory\u001b[39;00m\n",
      "\u001b[0;31mNameError\u001b[0m: name 'asizeof' is not defined"
     ]
    }
   ],
   "source": [
    "#Measure Memory Usage for Array Algorithm:\n",
    "\n",
    "memory_usage_a=[]\n",
    "for n in trials:\n",
    "  events = generate_events(n)\n",
    "  memory = asizeof.asizeof(events)\n",
    "  memory_usage_a.append(memory/1024**2)\n",
    "\n",
    "#plots Array and Linked List Memory\n",
    "plt.plot(trials,memory_usage_a, label='Array')\n",
    "plt.title('Array Memory Usage vs. Number of Events')\n",
    "plt.xlabel('Number of Events')\n",
    "plt.ylabel('Memory Usage (GB)')\n",
    "plt.legend()\n",
    "\n",
    "#finds line of best fit and plugs in 1,000,000 for number of trials to find array memory usage\n",
    "slope,intercept=np.polyfit(trials, memory_usage_a,1)\n",
    "print(f\"Memory of Array = {slope:.6f}*trials +{intercept:.6f}\")\n",
    "print('For 1000000 trials, Memory of Array =', slope*1000000 +intercept,'gigabytes')\n"
   ]
  },
  {
   "cell_type": "markdown",
   "id": "gEUgQLIUOCDv",
   "metadata": {
    "id": "gEUgQLIUOCDv"
   },
   "source": [
    "**Suggested Optimizations:**\n",
    "\n",
    "We conducted this exercise in 2 ways with isolated structures - an array and a linked list.  Hypothetically, we could have optimized our methodology by playing to the efficiencies of each via a hybrid structure.  For instance, while linked lists and arrays have the comperable complexity for basic operations such as inserts and deletes, linked lists are preferable as instances do not need to be copied when the lists are altered. Linked lists are tpyically more efficient in their memory allocation, as discussed earlier.  On the other hand, arrays have an inherent advantage in indexing capability relative to linked lists.  Combining structures to feature the strengths of each would dimish the impacts of each structures' isolated inefficiencies.\n",
    "\n",
    "\n",
    "**Parallel Conflict Detection**"
   ]
  },
  {
   "cell_type": "code",
   "execution_count": null,
   "id": "TLfXR-fAODYe",
   "metadata": {
    "id": "TLfXR-fAODYe"
   },
   "outputs": [],
   "source": []
  },
  {
   "cell_type": "markdown",
   "id": "n-cH3bYbuAOc",
   "metadata": {
    "id": "n-cH3bYbuAOc"
   },
   "source": [
    "## E. Team Roles\n",
    "\n",
    "Atharva:\n",
    "\n",
    "Griffin: Compiled and organized code into Github and Final notebook. I modified the code from all of the packages to be user-friendly. Worked on visualizations, and developed the array-based data structure.\n",
    "\n",
    "Sam: Built linked list, linked list methods, and linked list sorting algorithms.\n",
    "\n",
    "Sofie: I created the array sorting algorithms and completed the runtime trials. I also determined and calculated the memory usage for the scalability challenge."
   ]
  }
 ],
 "metadata": {
  "colab": {
   "provenance": [],
   "toc_visible": true
  },
  "kernelspec": {
   "display_name": "Python 3 (ipykernel)",
   "language": "python",
   "name": "python3"
  },
  "language_info": {
   "codemirror_mode": {
    "name": "ipython",
    "version": 3
   },
   "file_extension": ".py",
   "mimetype": "text/x-python",
   "name": "python",
   "nbconvert_exporter": "python",
   "pygments_lexer": "ipython3",
   "version": "3.11.9"
  }
 },
 "nbformat": 4,
 "nbformat_minor": 5
}
